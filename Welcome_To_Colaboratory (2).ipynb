{
  "nbformat": 4,
  "nbformat_minor": 0,
  "metadata": {
    "colab": {
      "name": "Welcome To Colaboratory",
      "version": "0.3.2",
      "provenance": [],
      "collapsed_sections": [],
      "toc_visible": true
    },
    "kernelspec": {
      "display_name": "Python 3",
      "name": "python3"
    }
  },
  "cells": [
    {
      "cell_type": "code",
      "metadata": {
        "id": "JNDYHjF75AVd",
        "colab_type": "code",
        "colab": {
          "base_uri": "https://localhost:8080/",
          "height": 34
        },
        "outputId": "12ef4558-7fe4-4748-c14c-3b082a7acac4"
      },
      "source": [
        "pip install PyPDF2\n"
      ],
      "execution_count": 3,
      "outputs": [
        {
          "output_type": "stream",
          "text": [
            "Requirement already satisfied: PyPDF2 in /usr/local/lib/python3.6/dist-packages (1.26.0)\n"
          ],
          "name": "stdout"
        }
      ]
    },
    {
      "cell_type": "code",
      "metadata": {
        "id": "0HQm_Llh5pgW",
        "colab_type": "code",
        "colab": {
          "base_uri": "https://localhost:8080/",
          "height": 445
        },
        "outputId": "059e1568-339d-4599-84f8-622fa447c754"
      },
      "source": [
        "pip install textract"
      ],
      "execution_count": 21,
      "outputs": [
        {
          "output_type": "stream",
          "text": [
            "Collecting textract\n",
            "Requirement already satisfied: chardet==2.3.0 in /usr/local/lib/python3.6/dist-packages (from textract) (2.3.0)\n",
            "Requirement already satisfied: beautifulsoup4==4.5.3 in /usr/local/lib/python3.6/dist-packages (from textract) (4.5.3)\n",
            "Requirement already satisfied: EbookLib==0.15 in /usr/local/lib/python3.6/dist-packages (from textract) (0.15)\n",
            "Collecting pocketsphinx==0.1.3 (from textract)\n",
            "  Using cached https://files.pythonhosted.org/packages/93/5f/a968e5d53d25e32deb78c3e169fd8612ecf53cc76e32cb40e19be35696af/pocketsphinx-0.1.3.tar.bz2\n",
            "Requirement already satisfied: docx2txt==0.6 in /usr/local/lib/python3.6/dist-packages (from textract) (0.6)\n",
            "Requirement already satisfied: argcomplete==1.8.2 in /usr/local/lib/python3.6/dist-packages (from textract) (1.8.2)\n",
            "Requirement already satisfied: six==1.10.0 in /usr/local/lib/python3.6/dist-packages (from textract) (1.10.0)\n",
            "Requirement already satisfied: xlrd==1.0.0 in /usr/local/lib/python3.6/dist-packages (from textract) (1.0.0)\n",
            "Requirement already satisfied: SpeechRecognition==3.6.3 in /usr/local/lib/python3.6/dist-packages (from textract) (3.6.3)\n",
            "Requirement already satisfied: python-pptx==0.6.5 in /usr/local/lib/python3.6/dist-packages (from textract) (0.6.5)\n",
            "Requirement already satisfied: lxml in /usr/local/lib/python3.6/dist-packages (from EbookLib==0.15->textract) (4.2.6)\n",
            "Requirement already satisfied: Pillow>=2.6.1 in /usr/local/lib/python3.6/dist-packages (from python-pptx==0.6.5->textract) (4.3.0)\n",
            "Requirement already satisfied: XlsxWriter>=0.5.7 in /usr/local/lib/python3.6/dist-packages (from python-pptx==0.6.5->textract) (1.1.8)\n",
            "Requirement already satisfied: olefile in /usr/local/lib/python3.6/dist-packages (from Pillow>=2.6.1->python-pptx==0.6.5->textract) (0.46)\n",
            "Building wheels for collected packages: pocketsphinx\n",
            "  Building wheel for pocketsphinx (setup.py) ... \u001b[?25lerror\n",
            "\u001b[31m  ERROR: Failed building wheel for pocketsphinx\u001b[0m\n",
            "\u001b[?25h  Running setup.py clean for pocketsphinx\n",
            "Failed to build pocketsphinx\n",
            "Installing collected packages: pocketsphinx, textract\n",
            "  Running setup.py install for pocketsphinx ... \u001b[?25l\u001b[?25herror\n",
            "\u001b[31mERROR: Command \"/usr/bin/python3 -u -c 'import setuptools, tokenize;__file__='\"'\"'/tmp/pip-install-ekpv9ol5/pocketsphinx/setup.py'\"'\"';f=getattr(tokenize, '\"'\"'open'\"'\"', open)(__file__);code=f.read().replace('\"'\"'\\r\\n'\"'\"', '\"'\"'\\n'\"'\"');f.close();exec(compile(code, __file__, '\"'\"'exec'\"'\"'))' install --record /tmp/pip-record-e_8ccczs/install-record.txt --single-version-externally-managed --compile\" failed with error code 1 in /tmp/pip-install-ekpv9ol5/pocketsphinx/\u001b[0m\n"
          ],
          "name": "stdout"
        }
      ]
    },
    {
      "cell_type": "code",
      "metadata": {
        "id": "8pLYcqa97sMs",
        "colab_type": "code",
        "colab": {}
      },
      "source": [
        ""
      ],
      "execution_count": 0,
      "outputs": []
    },
    {
      "cell_type": "code",
      "metadata": {
        "id": "mHu6AwSy5HE_",
        "colab_type": "code",
        "colab": {
          "base_uri": "https://localhost:8080/",
          "height": 34
        },
        "outputId": "910ed5e2-c75a-4de2-c05f-72a2acf0f521"
      },
      "source": [
        "import os\n",
        "print(os.getcwd())\n"
      ],
      "execution_count": 17,
      "outputs": [
        {
          "output_type": "stream",
          "text": [
            "/content\n"
          ],
          "name": "stdout"
        }
      ]
    },
    {
      "cell_type": "code",
      "metadata": {
        "id": "hJ9llLRX6ts_",
        "colab_type": "code",
        "colab": {
          "base_uri": "https://localhost:8080/",
          "height": 34
        },
        "outputId": "2e18e080-595d-4a81-ed08-8131083ceeb7"
      },
      "source": [
        "!ls"
      ],
      "execution_count": 19,
      "outputs": [
        {
          "output_type": "stream",
          "text": [
            "'Check list.pdf'   sample_data\n"
          ],
          "name": "stdout"
        }
      ]
    },
    {
      "cell_type": "code",
      "metadata": {
        "id": "E_BjyRy25IlW",
        "colab_type": "code",
        "colab": {
          "base_uri": "https://localhost:8080/",
          "height": 51
        },
        "outputId": "a773213a-4eb3-4376-b63e-3a3e10469352"
      },
      "source": [
        "pip install nltk"
      ],
      "execution_count": 7,
      "outputs": [
        {
          "output_type": "stream",
          "text": [
            "Requirement already satisfied: nltk in /usr/local/lib/python3.6/dist-packages (3.2.5)\n",
            "Requirement already satisfied: six in /usr/local/lib/python3.6/dist-packages (from nltk) (1.12.0)\n"
          ],
          "name": "stdout"
        }
      ]
    },
    {
      "cell_type": "code",
      "metadata": {
        "id": "OjJWLnr27Yz4",
        "colab_type": "code",
        "colab": {}
      },
      "source": [
        "import PyPDF2 \n",
        "# import textract\n",
        "from nltk.tokenize import word_tokenize\n",
        "from nltk.corpus import stopwords"
      ],
      "execution_count": 0,
      "outputs": []
    },
    {
      "cell_type": "code",
      "metadata": {
        "id": "cKtUE0W48yWY",
        "colab_type": "code",
        "colab": {}
      },
      "source": [
        "#write a for-loop to open many files -- leave a comment if you'd #like to learn how\n",
        "filename = 'Prasad_Resume.pdf' \n",
        "#open allows you to read the file\n",
        "pdfFileObj = open(filename,'rb')\n",
        "#The pdfReader variable is a readable object that will be parsed\n",
        "pdfReader = PyPDF2.PdfFileReader(pdfFileObj)\n",
        "#discerning the number of pages will allow us to parse through all #the pages\n",
        "num_pages = pdfReader.numPages\n",
        "count = 0\n",
        "text = \"\"\n",
        "#The while loop will read each page\n",
        "while count < num_pages:\n",
        "    pageObj = pdfReader.getPage(count)\n",
        "    count +=1\n",
        "    text += pageObj.extractText()\n",
        "#This if statement exists to check if the above library returned #words. It's done because PyPDF2 cannot read scanned files.\n",
        "if text != \"\":\n",
        "   text = text\n",
        "#If the above returns as False, we run the OCR library textract to #convert scanned/image based PDF files into text\n",
        "else:\n",
        "   text = textract.process(fileurl, method='tesseract', language='eng')\n",
        "# Now we have a text variable which contains all the text derived #from our PDF file. Type print(text) to see what it contains. It #likely contains a lot of spaces, possibly junk such as '\\n' etc.\n",
        "# Now, we will clean our text variable, and return it as a list of keywords."
      ],
      "execution_count": 0,
      "outputs": []
    },
    {
      "cell_type": "code",
      "metadata": {
        "id": "UFGqVoOy88mv",
        "colab_type": "code",
        "colab": {
          "base_uri": "https://localhost:8080/",
          "height": 68
        },
        "outputId": "52e5f2e6-fd67-4829-d4b7-b898618e228d"
      },
      "source": [
        "import nltk\n",
        "nltk.download('punkt')"
      ],
      "execution_count": 55,
      "outputs": [
        {
          "output_type": "stream",
          "text": [
            "[nltk_data] Downloading package punkt to /root/nltk_data...\n",
            "[nltk_data]   Package punkt is already up-to-date!\n"
          ],
          "name": "stdout"
        },
        {
          "output_type": "execute_result",
          "data": {
            "text/plain": [
              "True"
            ]
          },
          "metadata": {
            "tags": []
          },
          "execution_count": 55
        }
      ]
    },
    {
      "cell_type": "code",
      "metadata": {
        "id": "SPqie1WH9KD7",
        "colab_type": "code",
        "colab": {}
      },
      "source": [
        "tokens = word_tokenize(text)\n"
      ],
      "execution_count": 0,
      "outputs": []
    },
    {
      "cell_type": "code",
      "metadata": {
        "id": "8L1M312i-TCD",
        "colab_type": "code",
        "colab": {
          "base_uri": "https://localhost:8080/",
          "height": 68
        },
        "outputId": "1484b1cd-2cdb-4835-f2d4-979975395e3d"
      },
      "source": [
        "from nltk.corpus import stopwords\n",
        "\n",
        "# You will have to download the set of stop words the first time\n",
        "import nltk\n",
        "nltk.download('stopwords')"
      ],
      "execution_count": 57,
      "outputs": [
        {
          "output_type": "stream",
          "text": [
            "[nltk_data] Downloading package stopwords to /root/nltk_data...\n",
            "[nltk_data]   Package stopwords is already up-to-date!\n"
          ],
          "name": "stdout"
        },
        {
          "output_type": "execute_result",
          "data": {
            "text/plain": [
              "True"
            ]
          },
          "metadata": {
            "tags": []
          },
          "execution_count": 57
        }
      ]
    },
    {
      "cell_type": "code",
      "metadata": {
        "id": "bmX-_8ZT-AjT",
        "colab_type": "code",
        "colab": {}
      },
      "source": [
        "#we'll create a new list which contains punctuation we wish to clean\n",
        "punctuations = ['(',')',';',':','[',']',',']\n",
        "#We initialize the stopwords variable which is a list of words like #\"The\", \"I\", \"and\", etc. that don't hold much value as keywords\n",
        "stop_words = stopwords.words('english')\n",
        "\n"
      ],
      "execution_count": 0,
      "outputs": []
    },
    {
      "cell_type": "code",
      "metadata": {
        "id": "6MNYiuVK-YnM",
        "colab_type": "code",
        "colab": {}
      },
      "source": [
        "keywords = [word for word in tokens if not word in stop_words and not word in punctuations]"
      ],
      "execution_count": 0,
      "outputs": []
    },
    {
      "cell_type": "code",
      "metadata": {
        "id": "q58yMrKh-mJU",
        "colab_type": "code",
        "colab": {
          "base_uri": "https://localhost:8080/",
          "height": 187
        },
        "outputId": "06ebad25-a5fb-4dd5-c09d-c488b79ea57e"
      },
      "source": [
        "keywords[:10]"
      ],
      "execution_count": 60,
      "outputs": [
        {
          "output_type": "execute_result",
          "data": {
            "text/plain": [
              "['NAGA',\n",
              " 'PRASAD',\n",
              " 'B',\n",
              " 'Mob',\n",
              " 'ile',\n",
              " '9494909883/9884887876',\n",
              " 'Mail',\n",
              " 'prasad.desd',\n",
              " '@',\n",
              " 'gmail']"
            ]
          },
          "metadata": {
            "tags": []
          },
          "execution_count": 60
        }
      ]
    },
    {
      "cell_type": "code",
      "metadata": {
        "id": "L4LcqAiT_TfM",
        "colab_type": "code",
        "colab": {}
      },
      "source": [
        "from nltk.tokenize import sent_tokenize"
      ],
      "execution_count": 0,
      "outputs": []
    },
    {
      "cell_type": "code",
      "metadata": {
        "id": "ZahXM5n__iuJ",
        "colab_type": "code",
        "colab": {}
      },
      "source": [
        "sent_tokens = sent_tokenize(text)"
      ],
      "execution_count": 0,
      "outputs": []
    },
    {
      "cell_type": "code",
      "metadata": {
        "id": "5VW8qKJ5_rfK",
        "colab_type": "code",
        "colab": {
          "base_uri": "https://localhost:8080/",
          "height": 105
        },
        "outputId": "20068467-6290-4d58-d3c0-532170ef5ef6"
      },
      "source": [
        "sent_tokens[:4]"
      ],
      "execution_count": 50,
      "outputs": [
        {
          "output_type": "execute_result",
          "data": {
            "text/plain": [
              "[' \\n                                     \\nChecklist  for Schengen visa \\n                                                                                                                             \\n                                               \\n \\n \\n              \\n                                      \\n-\\nBusiness\\n-\\n \\n \\nBefore submitting your application at your local Visa Application Centre or German Mission, please \\nprepare the following documentation:\\n \\nS.No\\n \\nRequired Documents\\n \\nYes\\n \\nNo\\n \\n1\\n \\nValid \\npassport\\n \\n(issued within the la\\nst 10 years and with at least 3 months validity after the \\nscheduled return; passports with observations regarding the front data page cannot be \\naccepted) with at least two empty pages\\n \\n \\n \\n \\n \\n2\\n \\n3\\n \\npassport pictures\\n \\naccording to biometric specifications, not ol\\nder than 6 months.',\n",
              " '3\\n \\nApplication form\\n \\n& declaration duly signed\\n \\n \\n \\n \\n \\n4\\n \\nCompany covering letter\\n \\nwith entire travel plan (itineary)\\n \\nand Company Profile\\n \\n \\n \\n \\n \\n5\\n \\nInvitation letter from the business partner in Germany \\nin English or German \\n \\n \\n \\n \\n \\nFor \\nconsult\\nancy services\\n: please provide a confirmation letter from the German client\\n \\n \\n \\n \\n \\n6\\n \\nDetailed schedule\\n \\nof your business meetings (ONLY for stays over 30 days)\\n \\n \\n \\n \\n \\n7\\n \\nCertificate of Incorporation \\nof the company\\n \\n \\n \\n \\n \\n8\\n \\nCompany bank statement \\nof the past three m\\nonths, stating the drawing power/credit limit\\n \\n \\n \\n \\n \\n9\\n \\nCompany Income Tax Return (ITR) form \\n \\n \\n \\n \\n \\n10\\n \\nProof of financial status: \\n \\n \\n \\n \\n \\n10a\\n \\nIf \\nself\\n-\\nemployed\\n: Certificate of Proprietorship or other proof of ownership (proof of land title, \\nproof of income from a\\ngriculture (sales form) etc.)',\n",
              " '10b\\n \\nIf \\nemployed\\n: Payslips of the past three months / employment contract\\n/ Appointment Letter\\n \\n \\n \\n \\n \\n10c\\n \\nPersonal bank statement\\n \\nof the past three months with sufficient funds\\n \\n \\n \\n \\n \\n10d\\n \\nIncome Tax Return (ITR)\\n \\nform or Form 16\\n \\n(Certificate of Income Tax deducted at the source \\nof salary)\\n \\n \\n \\n \\n \\n11\\n \\nProof of accomodation\\n \\nfor your entire stay in the Schengen area\\n \\n \\n \\n \\n \\n12\\n \\nFlight reservation\\n, \\n(\\nrail tickets, others\\n, if internal travel involved\\n)\\n.',\n",
              " '13\\n \\nTravel health insurance (Kindly refer to www.india.diplo.de/visa to find out about the travel \\nhealth insurances accepted) \\n \\n \\n \\n \\n \\n14\\n \\nProof of civil status:\\n \\nMarriage certificate, birth certificate of children, death certificate of \\nspouse, ration\\n \\ncard if applicable\\n \\n \\n \\n \\n \\n15\\n \\n1\\n \\n\\n \\n(A4 size copy)\\n \\n \\n \\n \\n \\nAll documents need to be presented\\n \\nin the given order\\n \\nin original\\n.']"
            ]
          },
          "metadata": {
            "tags": []
          },
          "execution_count": 50
        }
      ]
    },
    {
      "cell_type": "code",
      "metadata": {
        "id": "7XApRWpyAdBK",
        "colab_type": "code",
        "colab": {
          "base_uri": "https://localhost:8080/",
          "height": 357
        },
        "outputId": "2844b810-74e5-48f1-b0f9-24f9033d97e3"
      },
      "source": [
        "keywords[keywords.index('experience')-10:keywords.index('experience')+10]"
      ],
      "execution_count": 62,
      "outputs": [
        {
          "output_type": "execute_result",
          "data": {
            "text/plain": [
              "['Mail',\n",
              " 'prasad.desd',\n",
              " '@',\n",
              " 'gmail',\n",
              " '.com',\n",
              " 'KEY',\n",
              " 'STATEMENTS',\n",
              " 'ABOUT',\n",
              " 'MYSELF',\n",
              " 'Having',\n",
              " 'experience',\n",
              " '3years',\n",
              " '1mont',\n",
              " 'h',\n",
              " 'developing',\n",
              " 'embedded',\n",
              " 'System',\n",
              " 'Microcontroller',\n",
              " 'B',\n",
              " 'ased']"
            ]
          },
          "metadata": {
            "tags": []
          },
          "execution_count": 62
        }
      ]
    }
  ]
}